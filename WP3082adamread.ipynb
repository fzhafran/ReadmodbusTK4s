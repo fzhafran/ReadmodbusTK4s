{
 "cells": [
  {
   "cell_type": "code",
   "execution_count": 2,
   "metadata": {},
   "outputs": [],
   "source": [
    "# !pip install numpy"
   ]
  },
  {
   "cell_type": "code",
   "execution_count": 3,
   "metadata": {},
   "outputs": [],
   "source": [
    "# import serial\n",
    "# import time\n",
    "# import struct\n",
    "\n",
    "# COM = 'COM7'\n",
    "\n",
    "# ser = serial.Serial(\n",
    "#     port=COM,\n",
    "#     baudrate=9600,\n",
    "#     parity=serial.PARITY_NONE,\n",
    "#     stopbits=serial.STOPBITS_ONE,\n",
    "#     bytesize=serial.EIGHTBITS,\n",
    "#     timeout = 1\n",
    "# )"
   ]
  },
  {
   "cell_type": "code",
   "execution_count": 4,
   "metadata": {},
   "outputs": [],
   "source": [
    "# st=\"\\x23\\x30\\x34\\x0D\"\n",
    "# x=st.encode()"
   ]
  },
  {
   "cell_type": "code",
   "execution_count": 5,
   "metadata": {},
   "outputs": [],
   "source": [
    "# request = \"$02Y(cr)\\r\"\n",
    "# request = bytes(request, encoding=\"latin1\")"
   ]
  },
  {
   "cell_type": "code",
   "execution_count": 6,
   "metadata": {},
   "outputs": [],
   "source": [
    "# ser.write(request)\n",
    "# print(\"write: \",request)\n",
    "# time.sleep(1)\n",
    "# out = ser.read(17)\n",
    "# # out = str(out,encoding = \"latin1\")\n",
    "# time.sleep(2)\n",
    "# ser.close()\n",
    "# out\n",
    "# # text=ser.readline()\n",
    "# # temp=text.decode('utf-8')\n",
    "# # print(\"response: \",temp)"
   ]
  },
  {
   "cell_type": "code",
   "execution_count": 7,
   "metadata": {
    "scrolled": false
   },
   "outputs": [],
   "source": [
    "# import pymodbus\n",
    "# from pymodbus.client.sync import ModbusSerialClient as ModbusClient\n",
    "# from pymodbus.transaction import ModbusRtuFramer\n",
    "# import time\n",
    "\n",
    "# from pymodbus.constants import Defaults\n",
    "# Defaults.RetryOnEmpty=True\n",
    "# Defaults.Timeout= 0.25\n",
    "# Defaults.Retries= 3\n",
    "\n",
    "# client = ModbusClient(method='rtu', port='COM10',stopbits = 2, bytesize = 8, parity = 'N', baudrate= 9600)\n",
    "# # client=ModbusClient('10.22.29.60', port=5000, framer=ModbusRtuFramer)\n",
    "# connection = client.connect()\n",
    "# for x in range (1,8,1):\n",
    "#     regPlc = client.read_holding_registers(address=x, count=1, unit=0x01) #baca data word/analog dari address 1000 ke 1019\n",
    "#     time.sleep(1)\n",
    "#     print(regPlc)\n",
    "#     intsvt = int(regPlc.registers[0])\n",
    "#     print(intsvt)\n",
    "# client.close()"
   ]
  },
  {
   "cell_type": "code",
   "execution_count": 8,
   "metadata": {
    "scrolled": false
   },
   "outputs": [],
   "source": [
    "# import minimalmodbus\n",
    "# import serial\n",
    "# import numpy as np\n",
    "# import struct\n",
    "\n",
    "# def u16_to_float(data):\n",
    "#     temp = data & 0x0FFF\n",
    "#     temp /= 16.0\n",
    "#     if data & 0x1000:\n",
    "#         temp -= 256\n",
    "#     return temp\n",
    "\n",
    "# def unpack(data):\n",
    "#     val = struct.pack('H', data)\n",
    "#     temp = struct.unpack('h', val)[0]\n",
    "#     return val\n",
    "\n",
    "# instrument = minimalmodbus.Instrument ('COM6', 1)\n",
    "# instrument.serial.baudrate = 9600\n",
    "# instrument.serial.bytesize = 8\n",
    "# instrument.serial.parity = serial.PARITY_NONE\n",
    "# instrument.serial.stopbits = 1\n",
    "# instrument.serial.timeout = 1\n",
    "# instrument.mode = minimalmodbus.MODE_RTU\n",
    "# instrument.close_port_after_each_call = True\n",
    "# instrument.debug = True\n",
    "\n",
    "# data = instrument.read_register (0x0008,0, 0x02, signed = False)\n",
    "# print(\"chanel:\" + str(i), \"data :\" + str(data) + \"  ==  \" + str(u16_to_float(data)*-1) +\"  ==  \" +str(unpack(data)))"
   ]
  },
  {
   "cell_type": "code",
   "execution_count": 9,
   "metadata": {},
   "outputs": [],
   "source": [
    "# def float_to_u16(temp):\n",
    "#     return int(temp * 16) & 0x1FFF\n",
    "\n",
    "# float_to_u16(22)"
   ]
  },
  {
   "cell_type": "markdown",
   "metadata": {},
   "source": [
    "##wp8028adam"
   ]
  },
  {
   "cell_type": "code",
   "execution_count": 10,
   "metadata": {},
   "outputs": [],
   "source": [
    "import minimalmodbus\n",
    "import serial\n",
    "import time\n",
    "import struct\n",
    "\n",
    "COM = 'COM7'"
   ]
  },
  {
   "cell_type": "code",
   "execution_count": 11,
   "metadata": {},
   "outputs": [],
   "source": [
    "_CRC16TABLE = (\n",
    "    0,\n",
    "    49345,\n",
    "    49537,\n",
    "    320,\n",
    "    49921,\n",
    "    960,\n",
    "    640,\n",
    "    49729,\n",
    "    50689,\n",
    "    1728,\n",
    "    1920,\n",
    "    51009,\n",
    "    1280,\n",
    "    50625,\n",
    "    50305,\n",
    "    1088,\n",
    "    52225,\n",
    "    3264,\n",
    "    3456,\n",
    "    52545,\n",
    "    3840,\n",
    "    53185,\n",
    "    52865,\n",
    "    3648,\n",
    "    2560,\n",
    "    51905,\n",
    "    52097,\n",
    "    2880,\n",
    "    51457,\n",
    "    2496,\n",
    "    2176,\n",
    "    51265,\n",
    "    55297,\n",
    "    6336,\n",
    "    6528,\n",
    "    55617,\n",
    "    6912,\n",
    "    56257,\n",
    "    55937,\n",
    "    6720,\n",
    "    7680,\n",
    "    57025,\n",
    "    57217,\n",
    "    8000,\n",
    "    56577,\n",
    "    7616,\n",
    "    7296,\n",
    "    56385,\n",
    "    5120,\n",
    "    54465,\n",
    "    54657,\n",
    "    5440,\n",
    "    55041,\n",
    "    6080,\n",
    "    5760,\n",
    "    54849,\n",
    "    53761,\n",
    "    4800,\n",
    "    4992,\n",
    "    54081,\n",
    "    4352,\n",
    "    53697,\n",
    "    53377,\n",
    "    4160,\n",
    "    61441,\n",
    "    12480,\n",
    "    12672,\n",
    "    61761,\n",
    "    13056,\n",
    "    62401,\n",
    "    62081,\n",
    "    12864,\n",
    "    13824,\n",
    "    63169,\n",
    "    63361,\n",
    "    14144,\n",
    "    62721,\n",
    "    13760,\n",
    "    13440,\n",
    "    62529,\n",
    "    15360,\n",
    "    64705,\n",
    "    64897,\n",
    "    15680,\n",
    "    65281,\n",
    "    16320,\n",
    "    16000,\n",
    "    65089,\n",
    "    64001,\n",
    "    15040,\n",
    "    15232,\n",
    "    64321,\n",
    "    14592,\n",
    "    63937,\n",
    "    63617,\n",
    "    14400,\n",
    "    10240,\n",
    "    59585,\n",
    "    59777,\n",
    "    10560,\n",
    "    60161,\n",
    "    11200,\n",
    "    10880,\n",
    "    59969,\n",
    "    60929,\n",
    "    11968,\n",
    "    12160,\n",
    "    61249,\n",
    "    11520,\n",
    "    60865,\n",
    "    60545,\n",
    "    11328,\n",
    "    58369,\n",
    "    9408,\n",
    "    9600,\n",
    "    58689,\n",
    "    9984,\n",
    "    59329,\n",
    "    59009,\n",
    "    9792,\n",
    "    8704,\n",
    "    58049,\n",
    "    58241,\n",
    "    9024,\n",
    "    57601,\n",
    "    8640,\n",
    "    8320,\n",
    "    57409,\n",
    "    40961,\n",
    "    24768,\n",
    "    24960,\n",
    "    41281,\n",
    "    25344,\n",
    "    41921,\n",
    "    41601,\n",
    "    25152,\n",
    "    26112,\n",
    "    42689,\n",
    "    42881,\n",
    "    26432,\n",
    "    42241,\n",
    "    26048,\n",
    "    25728,\n",
    "    42049,\n",
    "    27648,\n",
    "    44225,\n",
    "    44417,\n",
    "    27968,\n",
    "    44801,\n",
    "    28608,\n",
    "    28288,\n",
    "    44609,\n",
    "    43521,\n",
    "    27328,\n",
    "    27520,\n",
    "    43841,\n",
    "    26880,\n",
    "    43457,\n",
    "    43137,\n",
    "    26688,\n",
    "    30720,\n",
    "    47297,\n",
    "    47489,\n",
    "    31040,\n",
    "    47873,\n",
    "    31680,\n",
    "    31360,\n",
    "    47681,\n",
    "    48641,\n",
    "    32448,\n",
    "    32640,\n",
    "    48961,\n",
    "    32000,\n",
    "    48577,\n",
    "    48257,\n",
    "    31808,\n",
    "    46081,\n",
    "    29888,\n",
    "    30080,\n",
    "    46401,\n",
    "    30464,\n",
    "    47041,\n",
    "    46721,\n",
    "    30272,\n",
    "    29184,\n",
    "    45761,\n",
    "    45953,\n",
    "    29504,\n",
    "    45313,\n",
    "    29120,\n",
    "    28800,\n",
    "    45121,\n",
    "    20480,\n",
    "    37057,\n",
    "    37249,\n",
    "    20800,\n",
    "    37633,\n",
    "    21440,\n",
    "    21120,\n",
    "    37441,\n",
    "    38401,\n",
    "    22208,\n",
    "    22400,\n",
    "    38721,\n",
    "    21760,\n",
    "    38337,\n",
    "    38017,\n",
    "    21568,\n",
    "    39937,\n",
    "    23744,\n",
    "    23936,\n",
    "    40257,\n",
    "    24320,\n",
    "    40897,\n",
    "    40577,\n",
    "    24128,\n",
    "    23040,\n",
    "    39617,\n",
    "    39809,\n",
    "    23360,\n",
    "    39169,\n",
    "    22976,\n",
    "    22656,\n",
    "    38977,\n",
    "    34817,\n",
    "    18624,\n",
    "    18816,\n",
    "    35137,\n",
    "    19200,\n",
    "    35777,\n",
    "    35457,\n",
    "    19008,\n",
    "    19968,\n",
    "    36545,\n",
    "    36737,\n",
    "    20288,\n",
    "    36097,\n",
    "    19904,\n",
    "    19584,\n",
    "    35905,\n",
    "    17408,\n",
    "    33985,\n",
    "    34177,\n",
    "    17728,\n",
    "    34561,\n",
    "    18368,\n",
    "    18048,\n",
    "    34369,\n",
    "    33281,\n",
    "    17088,\n",
    "    17280,\n",
    "    33601,\n",
    "    16640,\n",
    "    33217,\n",
    "    32897,\n",
    "    16448,\n",
    ")"
   ]
  },
  {
   "cell_type": "code",
   "execution_count": 12,
   "metadata": {},
   "outputs": [],
   "source": [
    "def twobytestring(input) :\n",
    "    multiplier = 10 ** 0\n",
    "    integer = int(float(input)* multiplier)\n",
    "    formatcode = \">\"\n",
    "    formatcode += \"H\"\n",
    "\n",
    "    result = struct.pack(formatcode, integer)\n",
    "    outstring = str(result, encoding = \"latin1\")\n",
    "    assert len(outstring) == 2\n",
    "    return outstring\n",
    "\n",
    "def twobytestringlsb(input) :\n",
    "    multiplier = 10 ** 0\n",
    "    integer = int(float(input)* multiplier)\n",
    "    formatcode = \"<\"\n",
    "    formatcode += \"H\"\n",
    "\n",
    "    result = struct.pack(formatcode, integer)\n",
    "    outstring = str(result, encoding = \"latin1\")\n",
    "    assert len(outstring) == 2\n",
    "    return outstring\n",
    "\n",
    "def crccheck (inputstring):\n",
    "    register = 0xFFFF\n",
    "\n",
    "    for char in inputstring:\n",
    "        register = (register >> 8) ^ _CRC16TABLE[(register ^ ord(char)) & 0xFF]\n",
    "\n",
    "    return twobytestringlsb(register)"
   ]
  },
  {
   "cell_type": "code",
   "execution_count": 13,
   "metadata": {},
   "outputs": [
    {
     "data": {
      "text/plain": [
       "'\\x01\\x03\\x00\\x00\\x00\\x08D\\x0c'"
      ]
     },
     "execution_count": 13,
     "metadata": {},
     "output_type": "execute_result"
    }
   ],
   "source": [
    "ser = serial.Serial(\n",
    "    port=COM,\n",
    "    baudrate=9600,\n",
    "    parity=serial.PARITY_NONE,\n",
    "    stopbits=serial.STOPBITS_ONE,\n",
    "    bytesize=serial.EIGHTBITS,\n",
    "    timeout = 1\n",
    ")\n",
    "\n",
    "slaveaddress = 1\n",
    "functioncode = 3\n",
    "registeraddress = 0x0000\n",
    "registernumber = 0x0008\n",
    "\n",
    "first_part = (chr(slaveaddress) + chr(functioncode) + twobytestring(registeraddress) + twobytestring(registernumber))\n",
    "request = first_part + crccheck(first_part)\n",
    "request"
   ]
  },
  {
   "cell_type": "code",
   "execution_count": 14,
   "metadata": {},
   "outputs": [
    {
     "data": {
      "text/plain": [
       "'01 03 00 00 00 08 44 0C'"
      ]
     },
     "execution_count": 14,
     "metadata": {},
     "output_type": "execute_result"
    }
   ],
   "source": [
    "separator = \" \"\n",
    "\n",
    "byte_representions = []\n",
    "for char in request:\n",
    "    byte_representions.append(\"{0:02X}\".format(ord(char)))\n",
    "separator.join(byte_representions).strip()"
   ]
  },
  {
   "cell_type": "code",
   "execution_count": 15,
   "metadata": {
    "scrolled": true
   },
   "outputs": [
    {
     "data": {
      "text/plain": [
       "''"
      ]
     },
     "execution_count": 15,
     "metadata": {},
     "output_type": "execute_result"
    }
   ],
   "source": [
    "request = bytes(request, encoding=\"latin1\")\n",
    "ser.write(request)\n",
    "out = 0\n",
    "time.sleep(1)\n",
    "out = ser.read(21)\n",
    "out = str(out,encoding = \"latin1\")\n",
    "ser.close()\n",
    "out"
   ]
  },
  {
   "cell_type": "code",
   "execution_count": 16,
   "metadata": {},
   "outputs": [
    {
     "data": {
      "text/plain": [
       "''"
      ]
     },
     "execution_count": 16,
     "metadata": {},
     "output_type": "execute_result"
    }
   ],
   "source": [
    "separator = \" \"\n",
    "\n",
    "byte_representions = []\n",
    "for char in out:\n",
    "    byte_representions.append(\"{0:02X}\".format(ord(char)))\n",
    "separator.join(byte_representions).strip()"
   ]
  },
  {
   "cell_type": "code",
   "execution_count": 17,
   "metadata": {},
   "outputs": [
    {
     "data": {
      "text/plain": [
       "''"
      ]
     },
     "execution_count": 17,
     "metadata": {},
     "output_type": "execute_result"
    }
   ],
   "source": [
    "first_databyte_number = 3\n",
    "last_databyte_number = len(out) - 2\n",
    "payload = out[first_databyte_number:last_databyte_number]\n",
    "\n",
    "separator = \" \"\n",
    "\n",
    "byte_representions = []\n",
    "for char in payload:\n",
    "    byte_representions.append(\"{0:02X}\".format(ord(char)))\n",
    "separator.join(byte_representions).strip()"
   ]
  },
  {
   "cell_type": "code",
   "execution_count": 18,
   "metadata": {},
   "outputs": [],
   "source": [
    "def translate(input):\n",
    "    formatcode = \">\"\n",
    "    formatcode += \"H\"\n",
    "    packed = bytes(input,encoding = \"latin1\")\n",
    "    val = struct.unpack(formatcode, packed)[0]\n",
    "    divisor = 10 ** 1\n",
    "    val = val / float(divisor)\n",
    "    return val"
   ]
  },
  {
   "cell_type": "code",
   "execution_count": 19,
   "metadata": {},
   "outputs": [
    {
     "ename": "error",
     "evalue": "unpack requires a buffer of 2 bytes",
     "output_type": "error",
     "traceback": [
      "\u001b[1;31m---------------------------------------------------------------------------\u001b[0m",
      "\u001b[1;31merror\u001b[0m                                     Traceback (most recent call last)",
      "Input \u001b[1;32mIn [19]\u001b[0m, in \u001b[0;36m<module>\u001b[1;34m\u001b[0m\n\u001b[0;32m      4\u001b[0m     byteplace \u001b[38;5;241m=\u001b[39m i \u001b[38;5;241m*\u001b[39m bytenumberperregister\n\u001b[0;32m      5\u001b[0m     registerdata \u001b[38;5;241m=\u001b[39m payload[byteplace : byteplace \u001b[38;5;241m+\u001b[39m bytenumberperregister]\n\u001b[1;32m----> 6\u001b[0m     results\u001b[38;5;241m.\u001b[39mappend(\u001b[43mtranslate\u001b[49m\u001b[43m(\u001b[49m\u001b[43mregisterdata\u001b[49m\u001b[43m)\u001b[49m\u001b[38;5;241m*\u001b[39m\u001b[38;5;241m10\u001b[39m)\n\u001b[0;32m      7\u001b[0m \u001b[38;5;28mprint\u001b[39m(results)\n",
      "Input \u001b[1;32mIn [18]\u001b[0m, in \u001b[0;36mtranslate\u001b[1;34m(input)\u001b[0m\n\u001b[0;32m      3\u001b[0m formatcode \u001b[38;5;241m+\u001b[39m\u001b[38;5;241m=\u001b[39m \u001b[38;5;124m\"\u001b[39m\u001b[38;5;124mH\u001b[39m\u001b[38;5;124m\"\u001b[39m\n\u001b[0;32m      4\u001b[0m packed \u001b[38;5;241m=\u001b[39m \u001b[38;5;28mbytes\u001b[39m(\u001b[38;5;28minput\u001b[39m,encoding \u001b[38;5;241m=\u001b[39m \u001b[38;5;124m\"\u001b[39m\u001b[38;5;124mlatin1\u001b[39m\u001b[38;5;124m\"\u001b[39m)\n\u001b[1;32m----> 5\u001b[0m val \u001b[38;5;241m=\u001b[39m \u001b[43mstruct\u001b[49m\u001b[38;5;241;43m.\u001b[39;49m\u001b[43munpack\u001b[49m\u001b[43m(\u001b[49m\u001b[43mformatcode\u001b[49m\u001b[43m,\u001b[49m\u001b[43m \u001b[49m\u001b[43mpacked\u001b[49m\u001b[43m)\u001b[49m[\u001b[38;5;241m0\u001b[39m]\n\u001b[0;32m      6\u001b[0m divisor \u001b[38;5;241m=\u001b[39m \u001b[38;5;241m10\u001b[39m \u001b[38;5;241m*\u001b[39m\u001b[38;5;241m*\u001b[39m \u001b[38;5;241m1\u001b[39m\n\u001b[0;32m      7\u001b[0m val \u001b[38;5;241m=\u001b[39m val \u001b[38;5;241m/\u001b[39m \u001b[38;5;28mfloat\u001b[39m(divisor)\n",
      "\u001b[1;31merror\u001b[0m: unpack requires a buffer of 2 bytes"
     ]
    }
   ],
   "source": [
    "bytenumberperregister = 2\n",
    "results = []\n",
    "for i in range(8):\n",
    "    byteplace = i * bytenumberperregister\n",
    "    registerdata = payload[byteplace : byteplace + bytenumberperregister]\n",
    "    results.append(translate(registerdata)*10)\n",
    "print(results)"
   ]
  },
  {
   "cell_type": "code",
   "execution_count": null,
   "metadata": {},
   "outputs": [],
   "source": [
    "hasilakhir = []\n",
    "for i in results:\n",
    "    # I = i*20/4095\n",
    "    I = (i*(20-4)/4095)+4\n",
    "    hasilakhir.append(I)\n",
    "print(hasilakhir)\n",
    "\n",
    "hasilsuhu = []\n",
    "maxtemp = 100\n",
    "mintemp = 0\n",
    "for i in hasilakhir :\n",
    "    suhu = (i-4)*(maxtemp - mintemp)/(20-4)\n",
    "    hasilsuhu.append(suhu)\n",
    "print(hasilsuhu)"
   ]
  },
  {
   "cell_type": "code",
   "execution_count": 20,
   "metadata": {},
   "outputs": [
    {
     "name": "stdout",
     "output_type": "stream",
     "text": [
      "MinimalModbus debug mode. Create serial port COM7\n",
      "MinimalModbus debug mode. Will write to instrument (expecting 21 bytes back): 01 03 00 00 00 08 44 0C (8 bytes)\n",
      "MinimalModbus debug mode. Clearing serial buffers for port COM7\n",
      "MinimalModbus debug mode. No sleep required before write. Time since previous read: 614484265.00 ms, minimum silent period: 4.01 ms.\n",
      "MinimalModbus debug mode. Closing port COM7\n",
      "MinimalModbus debug mode. Response from instrument:  (0 bytes), roundtrip time: 1.0 ms. Timeout for reading: 0.0 ms.\n",
      "\n"
     ]
    },
    {
     "ename": "NoResponseError",
     "evalue": "No communication with the instrument (no answer)",
     "output_type": "error",
     "traceback": [
      "\u001b[1;31m---------------------------------------------------------------------------\u001b[0m",
      "\u001b[1;31mNoResponseError\u001b[0m                           Traceback (most recent call last)",
      "Input \u001b[1;32mIn [20]\u001b[0m, in \u001b[0;36m<module>\u001b[1;34m\u001b[0m\n\u001b[0;32m      7\u001b[0m instrument\u001b[38;5;241m.\u001b[39mmode \u001b[38;5;241m=\u001b[39m minimalmodbus\u001b[38;5;241m.\u001b[39mMODE_RTU\n\u001b[0;32m      8\u001b[0m instrument\u001b[38;5;241m.\u001b[39mclose_port_after_each_call \u001b[38;5;241m=\u001b[39m \u001b[38;5;28;01mTrue\u001b[39;00m\n\u001b[1;32m----> 9\u001b[0m data \u001b[38;5;241m=\u001b[39m \u001b[43minstrument\u001b[49m\u001b[38;5;241;43m.\u001b[39;49m\u001b[43mread_registers\u001b[49m\u001b[43m(\u001b[49m\u001b[43mregisteraddress\u001b[49m\u001b[43m \u001b[49m\u001b[38;5;241;43m=\u001b[39;49m\u001b[43m \u001b[49m\u001b[38;5;241;43m0x0000\u001b[39;49m\u001b[43m,\u001b[49m\u001b[43m \u001b[49m\u001b[43mnumber_of_registers\u001b[49m\u001b[43m \u001b[49m\u001b[38;5;241;43m=\u001b[39;49m\u001b[43m \u001b[49m\u001b[38;5;241;43m8\u001b[39;49m\u001b[43m,\u001b[49m\u001b[43m \u001b[49m\u001b[43mfunctioncode\u001b[49m\u001b[43m \u001b[49m\u001b[38;5;241;43m=\u001b[39;49m\u001b[43m \u001b[49m\u001b[38;5;241;43m3\u001b[39;49m\u001b[43m)\u001b[49m\n\u001b[0;32m     10\u001b[0m data\n",
      "File \u001b[1;32m~\\AppData\\Local\\Programs\\Python\\Python39\\lib\\site-packages\\minimalmodbus.py:904\u001b[0m, in \u001b[0;36mInstrument.read_registers\u001b[1;34m(self, registeraddress, number_of_registers, functioncode)\u001b[0m\n\u001b[0;32m    897\u001b[0m _check_functioncode(functioncode, [\u001b[38;5;241m3\u001b[39m, \u001b[38;5;241m4\u001b[39m])\n\u001b[0;32m    898\u001b[0m _check_int(\n\u001b[0;32m    899\u001b[0m     number_of_registers,\n\u001b[0;32m    900\u001b[0m     minvalue\u001b[38;5;241m=\u001b[39m\u001b[38;5;241m1\u001b[39m,\n\u001b[0;32m    901\u001b[0m     maxvalue\u001b[38;5;241m=\u001b[39m_MAX_NUMBER_OF_REGISTERS_TO_READ,\n\u001b[0;32m    902\u001b[0m     description\u001b[38;5;241m=\u001b[39m\u001b[38;5;124m\"\u001b[39m\u001b[38;5;124mnumber of registers\u001b[39m\u001b[38;5;124m\"\u001b[39m,\n\u001b[0;32m    903\u001b[0m )\n\u001b[1;32m--> 904\u001b[0m returnvalue \u001b[38;5;241m=\u001b[39m \u001b[38;5;28;43mself\u001b[39;49m\u001b[38;5;241;43m.\u001b[39;49m\u001b[43m_generic_command\u001b[49m\u001b[43m(\u001b[49m\n\u001b[0;32m    905\u001b[0m \u001b[43m    \u001b[49m\u001b[43mfunctioncode\u001b[49m\u001b[43m,\u001b[49m\n\u001b[0;32m    906\u001b[0m \u001b[43m    \u001b[49m\u001b[43mregisteraddress\u001b[49m\u001b[43m,\u001b[49m\n\u001b[0;32m    907\u001b[0m \u001b[43m    \u001b[49m\u001b[43mnumber_of_registers\u001b[49m\u001b[38;5;241;43m=\u001b[39;49m\u001b[43mnumber_of_registers\u001b[49m\u001b[43m,\u001b[49m\n\u001b[0;32m    908\u001b[0m \u001b[43m    \u001b[49m\u001b[43mpayloadformat\u001b[49m\u001b[38;5;241;43m=\u001b[39;49m\u001b[43m_Payloadformat\u001b[49m\u001b[38;5;241;43m.\u001b[39;49m\u001b[43mREGISTERS\u001b[49m\u001b[43m,\u001b[49m\n\u001b[0;32m    909\u001b[0m \u001b[43m\u001b[49m\u001b[43m)\u001b[49m\n\u001b[0;32m    910\u001b[0m \u001b[38;5;66;03m# Make sure that we really return a list of integers\u001b[39;00m\n\u001b[0;32m    911\u001b[0m \u001b[38;5;28;01massert\u001b[39;00m \u001b[38;5;28misinstance\u001b[39m(returnvalue, \u001b[38;5;28mlist\u001b[39m)\n",
      "File \u001b[1;32m~\\AppData\\Local\\Programs\\Python\\Python39\\lib\\site-packages\\minimalmodbus.py:1245\u001b[0m, in \u001b[0;36mInstrument._generic_command\u001b[1;34m(self, functioncode, registeraddress, value, number_of_decimals, number_of_registers, number_of_bits, signed, byteorder, payloadformat)\u001b[0m\n\u001b[0;32m   1232\u001b[0m payload_to_slave \u001b[38;5;241m=\u001b[39m _create_payload(\n\u001b[0;32m   1233\u001b[0m     functioncode,\n\u001b[0;32m   1234\u001b[0m     registeraddress,\n\u001b[1;32m   (...)\u001b[0m\n\u001b[0;32m   1241\u001b[0m     payloadformat,\n\u001b[0;32m   1242\u001b[0m )\n\u001b[0;32m   1244\u001b[0m \u001b[38;5;66;03m# Communicate with instrument\u001b[39;00m\n\u001b[1;32m-> 1245\u001b[0m payload_from_slave \u001b[38;5;241m=\u001b[39m \u001b[38;5;28;43mself\u001b[39;49m\u001b[38;5;241;43m.\u001b[39;49m\u001b[43m_perform_command\u001b[49m\u001b[43m(\u001b[49m\u001b[43mfunctioncode\u001b[49m\u001b[43m,\u001b[49m\u001b[43m \u001b[49m\u001b[43mpayload_to_slave\u001b[49m\u001b[43m)\u001b[49m\n\u001b[0;32m   1247\u001b[0m \u001b[38;5;66;03m# There is no response for broadcasts\u001b[39;00m\n\u001b[0;32m   1248\u001b[0m \u001b[38;5;28;01mif\u001b[39;00m \u001b[38;5;28mself\u001b[39m\u001b[38;5;241m.\u001b[39maddress \u001b[38;5;241m==\u001b[39m _SLAVEADDRESS_BROADCAST:\n",
      "File \u001b[1;32m~\\AppData\\Local\\Programs\\Python\\Python39\\lib\\site-packages\\minimalmodbus.py:1322\u001b[0m, in \u001b[0;36mInstrument._perform_command\u001b[1;34m(self, functioncode, payload_to_slave)\u001b[0m\n\u001b[0;32m   1320\u001b[0m \u001b[38;5;66;03m# Communicate\u001b[39;00m\n\u001b[0;32m   1321\u001b[0m request_bytes \u001b[38;5;241m=\u001b[39m \u001b[38;5;28mbytes\u001b[39m(request, encoding\u001b[38;5;241m=\u001b[39m\u001b[38;5;124m\"\u001b[39m\u001b[38;5;124mlatin1\u001b[39m\u001b[38;5;124m\"\u001b[39m)\n\u001b[1;32m-> 1322\u001b[0m response_bytes \u001b[38;5;241m=\u001b[39m \u001b[38;5;28;43mself\u001b[39;49m\u001b[38;5;241;43m.\u001b[39;49m\u001b[43m_communicate\u001b[49m\u001b[43m(\u001b[49m\u001b[43mrequest_bytes\u001b[49m\u001b[43m,\u001b[49m\u001b[43m \u001b[49m\u001b[43mnumber_of_bytes_to_read\u001b[49m\u001b[43m)\u001b[49m\n\u001b[0;32m   1323\u001b[0m response \u001b[38;5;241m=\u001b[39m \u001b[38;5;28mstr\u001b[39m(response_bytes, encoding\u001b[38;5;241m=\u001b[39m\u001b[38;5;124m\"\u001b[39m\u001b[38;5;124mlatin1\u001b[39m\u001b[38;5;124m\"\u001b[39m)\n\u001b[0;32m   1325\u001b[0m \u001b[38;5;28;01mif\u001b[39;00m number_of_bytes_to_read \u001b[38;5;241m==\u001b[39m \u001b[38;5;241m0\u001b[39m:\n",
      "File \u001b[1;32m~\\AppData\\Local\\Programs\\Python\\Python39\\lib\\site-packages\\minimalmodbus.py:1490\u001b[0m, in \u001b[0;36mInstrument._communicate\u001b[1;34m(self, request, number_of_bytes_to_read)\u001b[0m\n\u001b[0;32m   1487\u001b[0m     \u001b[38;5;28mself\u001b[39m\u001b[38;5;241m.\u001b[39m_print_debug(text)\n\u001b[0;32m   1489\u001b[0m \u001b[38;5;28;01mif\u001b[39;00m \u001b[38;5;129;01mnot\u001b[39;00m answer \u001b[38;5;129;01mand\u001b[39;00m number_of_bytes_to_read \u001b[38;5;241m>\u001b[39m \u001b[38;5;241m0\u001b[39m:\n\u001b[1;32m-> 1490\u001b[0m     \u001b[38;5;28;01mraise\u001b[39;00m NoResponseError(\u001b[38;5;124m\"\u001b[39m\u001b[38;5;124mNo communication with the instrument (no answer)\u001b[39m\u001b[38;5;124m\"\u001b[39m)\n\u001b[0;32m   1492\u001b[0m \u001b[38;5;28;01mif\u001b[39;00m number_of_bytes_to_read \u001b[38;5;241m==\u001b[39m \u001b[38;5;241m0\u001b[39m:\n\u001b[0;32m   1493\u001b[0m     \u001b[38;5;28mself\u001b[39m\u001b[38;5;241m.\u001b[39m_print_debug(\n\u001b[0;32m   1494\u001b[0m         \u001b[38;5;124m\"\u001b[39m\u001b[38;5;124mBroadcast delay: Sleeping for \u001b[39m\u001b[38;5;132;01m{}\u001b[39;00m\u001b[38;5;124m s\u001b[39m\u001b[38;5;124m\"\u001b[39m\u001b[38;5;241m.\u001b[39mformat(_BROADCAST_DELAY)\n\u001b[0;32m   1495\u001b[0m     )\n",
      "\u001b[1;31mNoResponseError\u001b[0m: No communication with the instrument (no answer)"
     ]
    }
   ],
   "source": [
    "instrument = minimalmodbus.Instrument(COM, 1, debug =True)\n",
    "instrument.serial.baudrate = 9600\n",
    "instrument.serial.bytesize = 8\n",
    "instrument.serial.parity = serial.PARITY_NONE\n",
    "instrument.serial.stopbits = 1\n",
    "instrument.serial.timeout = 1\n",
    "instrument.mode = minimalmodbus.MODE_RTU\n",
    "instrument.close_port_after_each_call = True\n",
    "data = instrument.read_registers(registeraddress = 0x0000, number_of_registers = 8, functioncode = 3)\n",
    "data"
   ]
  }
 ],
 "metadata": {
  "kernelspec": {
   "display_name": "Python 3",
   "language": "python",
   "name": "python3"
  },
  "language_info": {
   "codemirror_mode": {
    "name": "ipython",
    "version": 3
   },
   "file_extension": ".py",
   "mimetype": "text/x-python",
   "name": "python",
   "nbconvert_exporter": "python",
   "pygments_lexer": "ipython3",
   "version": "3.9.6"
  }
 },
 "nbformat": 4,
 "nbformat_minor": 4
}
